{
 "cells": [
  {
   "cell_type": "markdown",
   "metadata": {},
   "source": [
    "aspose.slides という手も"
   ]
  },
  {
   "cell_type": "code",
   "execution_count": 800,
   "metadata": {},
   "outputs": [],
   "source": [
    "import pptx\n",
    "from pptx import Presentation\n",
    "from pptx.util import Inches, Cm, Pt\n",
    "from pptx.enum.text import PP_ALIGN\n",
    "from pptx.dml.color import RGBColor\n",
    "from pptx.enum.text import MSO_ANCHOR\n",
    "from bs4 import BeautifulSoup\n",
    "import importlib\n",
    "import numpy as np\n",
    "import os\n",
    "import zipfile\n",
    "import shutil\n",
    "import re\n",
    "from PIL import Image"
   ]
  },
  {
   "cell_type": "code",
   "execution_count": 814,
   "metadata": {},
   "outputs": [
    {
     "data": {
      "text/plain": [
       "<module 'script_zip' from '/Users/mac/Documents/VScode/Python/tk_exe/script_zip.py'>"
      ]
     },
     "execution_count": 814,
     "metadata": {},
     "output_type": "execute_result"
    }
   ],
   "source": [
    "import script_zip\n",
    "import script_pptx\n",
    "importlib.reload(script_pptx)\n",
    "importlib.reload(script_zip)"
   ]
  },
  {
   "cell_type": "markdown",
   "metadata": {},
   "source": [
    "### スライド作成"
   ]
  },
  {
   "cell_type": "code",
   "execution_count": 807,
   "metadata": {},
   "outputs": [],
   "source": [
    "# 新規pptxファイル生成\n",
    "prs_new = Presentation()\n",
    "prs_new.slides.add_slide(prs_new.slide_layouts[0])\n",
    "prs_new.save('new.pptx')"
   ]
  },
  {
   "cell_type": "markdown",
   "metadata": {},
   "source": [
    "### スライドマスター レイアウト編集"
   ]
  },
  {
   "cell_type": "code",
   "execution_count": 808,
   "metadata": {},
   "outputs": [],
   "source": [
    "# 新規pptxファイル生成\n",
    "prs_new = Presentation()\n",
    "\n",
    "# ファイル名\n",
    "filepath = 'new.pptx'\n",
    "\n",
    "#スライドのサイズを指定\n",
    "prs_new.slide_width = Cm(27.52)\n",
    "prs_new.slide_height = Cm(19.05)\n",
    "prs_new.save(filepath)\n",
    "\n",
    "# スライドマスター数の調整 (削除)\n",
    "script_pptx.delete_layouts(filepath, [5, 6, 7, 8, 9, 10, 11], master_num = 1)\n",
    "\n",
    "# xmlの入れ替え\n",
    "replace_dict = {\n",
    "    'ppt/slideMasters/slideMaster1.xml': 'xml/slideMaster1.xml',\n",
    "    'ppt/tableStyles.xml': 'xml/tableStyles.xml',\n",
    "    'ppt/viewProps.xml': 'xml/viewProps.xml',\n",
    "}\n",
    "for i in range(1, 5):\n",
    "    key = 'ppt/slideLayouts/slideLayout'+str(i)+'.xml'\n",
    "    value = 'xml/slideLayout'+str(i)+'.xml'\n",
    "    replace_dict.setdefault(key, value)\n",
    "\n",
    "script_pptx.replace_xml(filepath, replace_dict)\n",
    "\n",
    "# カラーパレット設定\n",
    "color_dict = {\n",
    "    'dk1': None,\n",
    "    'lt1': None,\n",
    "    'dk2': 'BF940A',\n",
    "    'lt2': '1D2A74',\n",
    "    'accent1': 'FA6D02',\n",
    "    'accent2': '1D73B7',\n",
    "    'accent3': '55B06E',\n",
    "    'accent4': 'FF0000',\n",
    "    'accent5': '1d2087',\n",
    "    'accent6': '3E9565',\n",
    "}\n",
    "script_pptx.change_color_palette(filepath, color_dict, master_num = 1, theme_num = 1)"
   ]
  },
  {
   "cell_type": "markdown",
   "metadata": {},
   "source": [
    "### タイトル追加"
   ]
  },
  {
   "cell_type": "code",
   "execution_count": 809,
   "metadata": {},
   "outputs": [],
   "source": [
    "prs = Presentation(filepath)\n",
    "slide_layout = prs.slide_layouts[2]\n",
    "slide = prs.slides.add_slide(slide_layout)\n",
    "\n",
    "# スライド内の個別PlaceFoldeオブジェクトを展開\n",
    "slides = [p for p in slide.placeholders]\n",
    "\n",
    "# タイトル\n",
    "title = slides[0]\n",
    "title_text = 'title'\n",
    "title.text = title_text\n",
    "\n",
    "# サブタイトル\n",
    "body = slides[1]\n",
    "\n",
    "# パラグラフ追記\n",
    "tf = body.text_frame\n",
    "body_text = 'text2'\n",
    "script_pptx.add_text(tf.paragraphs[0], body_text, size = 14, bold = True, level = 0)\n",
    "\n",
    "prs.save(filepath)"
   ]
  },
  {
   "cell_type": "markdown",
   "metadata": {},
   "source": [
    "### スライド追加"
   ]
  },
  {
   "cell_type": "code",
   "execution_count": 810,
   "metadata": {},
   "outputs": [],
   "source": [
    "def normal_slide(filepath):\n",
    "    title_text = 'Title'\n",
    "\n",
    "    prs = Presentation(filepath)\n",
    "    slide_layout = prs.slide_layouts[0]\n",
    "    slide = prs.slides.add_slide(slide_layout)\n",
    "\n",
    "    # スライド内の個別PlaceFoldeオブジェクトを展開\n",
    "    slides = [p for p in slide.placeholders]\n",
    "\n",
    "    # タイトル\n",
    "    title = slides[0]\n",
    "    title.text = title_text\n",
    "\n",
    "    # サブタイトル\n",
    "    body = slides[1]\n",
    "\n",
    "    # パラグラフ追記\n",
    "    tf = body.text_frame\n",
    "\n",
    "    body_text = 'text2'\n",
    "    script_pptx.add_text(tf.paragraphs[0], body_text, size = 14, bold = True, level = 0)\n",
    "\n",
    "    body_text = 'aaaaa'\n",
    "    script_pptx.add_text(tf.add_paragraph(), body_text, size = 14, bold = False, level = 1, alignment = 'CENTER')\n",
    "\n",
    "    body_text = 'bbbb'\n",
    "    script_pptx.add_text(tf.add_paragraph(), body_text, size = 14, bold = False, level = 1)\n",
    "    \n",
    "    body_text = 'text3'\n",
    "    script_pptx.add_text(tf.add_paragraph(), body_text, size = 14, bold = True, level = 0)\n",
    "\n",
    "    body_text = 'aaaaa'\n",
    "    script_pptx.add_text(tf.add_paragraph(), body_text, size = 14, bold = False, level = 1)\n",
    "\n",
    "    body_text = 'bbbb'\n",
    "    script_pptx.add_text(tf.add_paragraph(), body_text, size = 14, bold = False, level = 1)\n",
    "    \n",
    "    prs.save(filepath)"
   ]
  },
  {
   "cell_type": "code",
   "execution_count": null,
   "metadata": {},
   "outputs": [],
   "source": [
    "normal_slide(filepath)"
   ]
  },
  {
   "cell_type": "markdown",
   "metadata": {},
   "source": [
    "### グラフ追加"
   ]
  },
  {
   "cell_type": "code",
   "execution_count": 811,
   "metadata": {},
   "outputs": [
    {
     "data": {
      "image/png": "[encoded data removed]",
      "text/plain": [
       "<Figure size 216x216 with 1 Axes>"
      ]
     },
     "metadata": {
      "needs_background": "light"
     },
     "output_type": "display_data"
    }
   ],
   "source": [
    "import matplotlib.pyplot as plt\n",
    "data = [2, 4, 6, 3, 5, 8, 4, 5]\n",
    "\n",
    "fig, ax = plt.subplots(figsize = (3, 3))\n",
    "ax.plot(data)\n",
    "ax.plot([1,2,3,4],[1,5,10,15],\"r--\")\n",
    "plt.savefig('graph.png')\n",
    "plt.show()"
   ]
  },
  {
   "cell_type": "code",
   "execution_count": 812,
   "metadata": {},
   "outputs": [],
   "source": [
    "filepath = 'new.pptx'\n",
    "prs = Presentation(filepath)\n",
    "prs.slide_layouts\n",
    "\n",
    "# 画像追加\n",
    "slide_layout = prs.slide_layouts[0]\n",
    "slide = prs.slides.add_slide(slide_layout)\n",
    "img_path = 'graph.png'\n",
    "w, h = script_pptx.get_img_size(img_path)\n",
    "script_pptx.add_img(slide, img_path, Cm(1), Cm(2), Pt(w), Pt(h))\n",
    "\n",
    "prs.save(filepath)"
   ]
  },
  {
   "cell_type": "markdown",
   "metadata": {},
   "source": [
    "### Tableレイアウト"
   ]
  },
  {
   "cell_type": "code",
   "execution_count": 815,
   "metadata": {},
   "outputs": [],
   "source": [
    "# 入力したいtable状のデータ\n",
    "sample_table = [ [\"1.1\",\"1.2\",\"1.3\"]\n",
    "                ,[\"2.1\",\"2.2\",\"2.3\"]\n",
    "                ,[\"3.1\",\"3.2\",\"3.3\"]]\n",
    "\n",
    "# cell内のフォントサイズ\n",
    "font_size = 12\n",
    "\n",
    "# 挿入する位置\n",
    "table_left = Cm(5)\n",
    "table_top = Cm(15)\n",
    "\n",
    "# tableの幅と高さ（仮）\n",
    "table_width = Cm(3*len(sample_table[0]))\n",
    "table_height = Cm(1*len(sample_table))\n",
    "\n",
    "prs = Presentation(filepath)\n",
    "slide_layout = prs.slide_layouts[0]\n",
    "slide = prs.slides.add_slide(slide_layout)\n",
    "script_pptx.add_table(slide, sample_table, table_left, table_top, table_width, table_height, font_size)\n",
    "prs.save(filepath)"
   ]
  },
  {
   "cell_type": "code",
   "execution_count": null,
   "metadata": {},
   "outputs": [],
   "source": []
  },
  {
   "cell_type": "code",
   "execution_count": null,
   "metadata": {},
   "outputs": [],
   "source": []
  },
  {
   "cell_type": "code",
   "execution_count": null,
   "metadata": {},
   "outputs": [],
   "source": []
  },
  {
   "cell_type": "code",
   "execution_count": null,
   "metadata": {},
   "outputs": [],
   "source": []
  },
  {
   "cell_type": "code",
   "execution_count": null,
   "metadata": {},
   "outputs": [],
   "source": []
  },
  {
   "cell_type": "code",
   "execution_count": null,
   "metadata": {},
   "outputs": [],
   "source": []
  },
  {
   "cell_type": "code",
   "execution_count": null,
   "metadata": {},
   "outputs": [],
   "source": []
  },
  {
   "cell_type": "code",
   "execution_count": null,
   "metadata": {},
   "outputs": [],
   "source": []
  },
  {
   "cell_type": "code",
   "execution_count": null,
   "metadata": {},
   "outputs": [],
   "source": []
  },
  {
   "cell_type": "code",
   "execution_count": null,
   "metadata": {},
   "outputs": [],
   "source": []
  },
  {
   "cell_type": "code",
   "execution_count": 143,
   "metadata": {},
   "outputs": [],
   "source": [
    "import tempfile\n",
    "def remove_file(zipname, filename):\n",
    "    # generate a temp file\n",
    "    dir_path = os.path.dirname('')\n",
    "    tmpfd, tmpname = tempfile.mkstemp(dir = dir_path)\n",
    "    os.close(tmpfd)\n",
    "\n",
    "    # create a temp copy of the archive without filename            \n",
    "    with zipfile.ZipFile(zipname, 'r') as zin:\n",
    "        with zipfile.ZipFile(tmpname, 'w') as zout:\n",
    "            zout.comment = zin.comment # preserve the comment\n",
    "            for item in zin.infolist():\n",
    "                if item.filename != filename:\n",
    "                    zout.writestr(item, zin.read(item.filename))\n",
    "    # replace with the temp archive\n",
    "    os.remove(zipname)\n",
    "    os.rename(tmpname, zipname)\n",
    "\n",
    "def rename_file(zipname, filename):\n",
    "    # generate a temp file\n",
    "    dir_path = os.path.dirname('')\n",
    "    tmpfd, tmpname = tempfile.mkstemp(dir = dir_path)\n",
    "    os.close(tmpfd)\n",
    "\n",
    "    # create a temp copy of the archive without filename            \n",
    "    with zipfile.ZipFile(zipname, 'r') as zin:\n",
    "        with zipfile.ZipFile(tmpname, 'w') as zout:\n",
    "            zout.comment = zin.comment # preserve the comment\n",
    "            for item in zin.infolist():\n",
    "                if item.filename != filename:\n",
    "                    zout.writestr(item, zin.read(item.filename))\n",
    "\n",
    "    # replace with the temp archive\n",
    "    os.remove(zipname)\n",
    "    os.rename(tmpname, zipname)"
   ]
  }
 ],
 "metadata": {
  "interpreter": {
   "hash": "282ab56ee9bfaccf49a12cba480ce9a10230d5dcfa1829b9a3e2fcb372439637"
  },
  "kernelspec": {
   "display_name": "Python 3.9.12 ('venvX': venv)",
   "language": "python",
   "name": "python3"
  },
  "language_info": {
   "codemirror_mode": {
    "name": "ipython",
    "version": 3
   },
   "file_extension": ".py",
   "mimetype": "text/x-python",
   "name": "python",
   "nbconvert_exporter": "python",
   "pygments_lexer": "ipython3",
   "version": "3.9.12"
  },
  "orig_nbformat": 4
 },
 "nbformat": 4,
 "nbformat_minor": 2
}
